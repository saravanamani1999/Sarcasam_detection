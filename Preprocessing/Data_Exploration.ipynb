{
  "nbformat": 4,
  "nbformat_minor": 0,
  "metadata": {
    "colab": {
      "provenance": []
    },
    "kernelspec": {
      "name": "python3",
      "display_name": "Python 3"
    },
    "language_info": {
      "name": "python"
    }
  },
  "cells": [
    {
      "cell_type": "markdown",
      "source": [
        "#References\n",
        "https://levelup.gitconnected.com/how-to-remove-stopwords-from-text-in-python-9e9fbfcbca8d\n",
        "\n",
        "https://stackoverflow.com/questions/19560498/faster-way-to-remove-stop-words-in-python\n",
        "\n",
        "https://stackoverflow.com/questions/44633571/how-can-i-get-the-feature-names-from-sklearn-truncatedsvd-object\n",
        "\n",
        "https://stackoverflow.com/questions/46917835/plot-data-on-number-line-and-colour\n"
      ],
      "metadata": {
        "id": "mzFQTVDum31l"
      }
    },
    {
      "cell_type": "markdown",
      "source": [
        "#Data Exploration\n",
        "\n",
        "---\n",
        "\n"
      ],
      "metadata": {
        "id": "lvfgNQmCPrDz"
      }
    },
    {
      "cell_type": "code",
      "execution_count": null,
      "metadata": {
        "colab": {
          "base_uri": "https://localhost:8080/"
        },
        "id": "5MfRVu1aqDDl",
        "outputId": "5fd36817-da83-4d36-f6be-866e495e661e"
      },
      "outputs": [
        {
          "output_type": "stream",
          "name": "stderr",
          "text": [
            "[nltk_data] Downloading package stopwords to /root/nltk_data...\n",
            "[nltk_data]   Unzipping corpora/stopwords.zip.\n",
            "[nltk_data] Downloading package punkt to /root/nltk_data...\n",
            "[nltk_data]   Unzipping tokenizers/punkt.zip.\n"
          ]
        },
        {
          "output_type": "stream",
          "name": "stdout",
          "text": [
            "Mounted at /content/drive/\n"
          ]
        }
      ],
      "source": [
        "import pandas as pd\n",
        "from google.colab import drive\n",
        "from sklearn.feature_extraction.text import TfidfVectorizer, CountVectorizer\n",
        "from sklearn.model_selection import train_test_split\n",
        "import datetime\n",
        "import matplotlib.pyplot as plt\n",
        "import numpy as np\n",
        "import scipy\n",
        "from scipy.sparse import coo_matrix, hstack\n",
        "import nltk\n",
        "from nltk.corpus import stopwords\n",
        "from nltk.tokenize import word_tokenize\n",
        "from collections import Counter\n",
        "nltk.download('stopwords')\n",
        "nltk.download('punkt')\n",
        "drive.mount('/content/drive/')"
      ]
    },
    {
      "cell_type": "code",
      "source": [
        "data = \"/content/drive/My Drive/Colab Notebooks/train-balanced-sarcasm.csv\""
      ],
      "metadata": {
        "id": "OlhgRmVBwa0l"
      },
      "execution_count": null,
      "outputs": []
    },
    {
      "cell_type": "code",
      "source": [
        "df = pd.read_csv(data)\n",
        "df = df.dropna()"
      ],
      "metadata": {
        "id": "FUqIiZE_wc_F"
      },
      "execution_count": null,
      "outputs": []
    },
    {
      "cell_type": "code",
      "source": [
        "df.head()"
      ],
      "metadata": {
        "colab": {
          "base_uri": "https://localhost:8080/",
          "height": 206
        },
        "id": "2KpBNnBdwh_8",
        "outputId": "270fccad-4bed-4437-afe5-971c3e4c7a55"
      },
      "execution_count": null,
      "outputs": [
        {
          "output_type": "execute_result",
          "data": {
            "text/plain": [
              "   label                                            comment     author  \\\n",
              "0      0                                         NC and NH.  Trumpbart   \n",
              "1      0  You do know west teams play against west teams...  Shbshb906   \n",
              "2      0  They were underdogs earlier today, but since G...   Creepeth   \n",
              "3      0  This meme isn't funny none of the \"new york ni...  icebrotha   \n",
              "4      0                    I could use one of those tools.  cush2push   \n",
              "\n",
              "            subreddit  score  ups  downs     date          created_utc  \\\n",
              "0            politics      2   -1     -1  2016-10  2016-10-16 23:55:23   \n",
              "1                 nba     -4   -1     -1  2016-11  2016-11-01 00:24:10   \n",
              "2                 nfl      3    3      0  2016-09  2016-09-22 21:45:37   \n",
              "3  BlackPeopleTwitter     -8   -1     -1  2016-10  2016-10-18 21:03:47   \n",
              "4  MaddenUltimateTeam      6   -1     -1  2016-12  2016-12-30 17:00:13   \n",
              "\n",
              "                                      parent_comment  \n",
              "0  Yeah, I get that argument. At this point, I'd ...  \n",
              "1  The blazers and Mavericks (The wests 5 and 6 s...  \n",
              "2                            They're favored to win.  \n",
              "3                         deadass don't kill my buzz  \n",
              "4  Yep can confirm I saw the tool they use for th...  "
            ],
            "text/html": [
              "\n",
              "  <div id=\"df-c37f8180-0af1-4e5b-a0e7-4c1c168be6e5\">\n",
              "    <div class=\"colab-df-container\">\n",
              "      <div>\n",
              "<style scoped>\n",
              "    .dataframe tbody tr th:only-of-type {\n",
              "        vertical-align: middle;\n",
              "    }\n",
              "\n",
              "    .dataframe tbody tr th {\n",
              "        vertical-align: top;\n",
              "    }\n",
              "\n",
              "    .dataframe thead th {\n",
              "        text-align: right;\n",
              "    }\n",
              "</style>\n",
              "<table border=\"1\" class=\"dataframe\">\n",
              "  <thead>\n",
              "    <tr style=\"text-align: right;\">\n",
              "      <th></th>\n",
              "      <th>label</th>\n",
              "      <th>comment</th>\n",
              "      <th>author</th>\n",
              "      <th>subreddit</th>\n",
              "      <th>score</th>\n",
              "      <th>ups</th>\n",
              "      <th>downs</th>\n",
              "      <th>date</th>\n",
              "      <th>created_utc</th>\n",
              "      <th>parent_comment</th>\n",
              "    </tr>\n",
              "  </thead>\n",
              "  <tbody>\n",
              "    <tr>\n",
              "      <th>0</th>\n",
              "      <td>0</td>\n",
              "      <td>NC and NH.</td>\n",
              "      <td>Trumpbart</td>\n",
              "      <td>politics</td>\n",
              "      <td>2</td>\n",
              "      <td>-1</td>\n",
              "      <td>-1</td>\n",
              "      <td>2016-10</td>\n",
              "      <td>2016-10-16 23:55:23</td>\n",
              "      <td>Yeah, I get that argument. At this point, I'd ...</td>\n",
              "    </tr>\n",
              "    <tr>\n",
              "      <th>1</th>\n",
              "      <td>0</td>\n",
              "      <td>You do know west teams play against west teams...</td>\n",
              "      <td>Shbshb906</td>\n",
              "      <td>nba</td>\n",
              "      <td>-4</td>\n",
              "      <td>-1</td>\n",
              "      <td>-1</td>\n",
              "      <td>2016-11</td>\n",
              "      <td>2016-11-01 00:24:10</td>\n",
              "      <td>The blazers and Mavericks (The wests 5 and 6 s...</td>\n",
              "    </tr>\n",
              "    <tr>\n",
              "      <th>2</th>\n",
              "      <td>0</td>\n",
              "      <td>They were underdogs earlier today, but since G...</td>\n",
              "      <td>Creepeth</td>\n",
              "      <td>nfl</td>\n",
              "      <td>3</td>\n",
              "      <td>3</td>\n",
              "      <td>0</td>\n",
              "      <td>2016-09</td>\n",
              "      <td>2016-09-22 21:45:37</td>\n",
              "      <td>They're favored to win.</td>\n",
              "    </tr>\n",
              "    <tr>\n",
              "      <th>3</th>\n",
              "      <td>0</td>\n",
              "      <td>This meme isn't funny none of the \"new york ni...</td>\n",
              "      <td>icebrotha</td>\n",
              "      <td>BlackPeopleTwitter</td>\n",
              "      <td>-8</td>\n",
              "      <td>-1</td>\n",
              "      <td>-1</td>\n",
              "      <td>2016-10</td>\n",
              "      <td>2016-10-18 21:03:47</td>\n",
              "      <td>deadass don't kill my buzz</td>\n",
              "    </tr>\n",
              "    <tr>\n",
              "      <th>4</th>\n",
              "      <td>0</td>\n",
              "      <td>I could use one of those tools.</td>\n",
              "      <td>cush2push</td>\n",
              "      <td>MaddenUltimateTeam</td>\n",
              "      <td>6</td>\n",
              "      <td>-1</td>\n",
              "      <td>-1</td>\n",
              "      <td>2016-12</td>\n",
              "      <td>2016-12-30 17:00:13</td>\n",
              "      <td>Yep can confirm I saw the tool they use for th...</td>\n",
              "    </tr>\n",
              "  </tbody>\n",
              "</table>\n",
              "</div>\n",
              "      <button class=\"colab-df-convert\" onclick=\"convertToInteractive('df-c37f8180-0af1-4e5b-a0e7-4c1c168be6e5')\"\n",
              "              title=\"Convert this dataframe to an interactive table.\"\n",
              "              style=\"display:none;\">\n",
              "        \n",
              "  <svg xmlns=\"http://www.w3.org/2000/svg\" height=\"24px\"viewBox=\"0 0 24 24\"\n",
              "       width=\"24px\">\n",
              "    <path d=\"M0 0h24v24H0V0z\" fill=\"none\"/>\n",
              "    <path d=\"M18.56 5.44l.94 2.06.94-2.06 2.06-.94-2.06-.94-.94-2.06-.94 2.06-2.06.94zm-11 1L8.5 8.5l.94-2.06 2.06-.94-2.06-.94L8.5 2.5l-.94 2.06-2.06.94zm10 10l.94 2.06.94-2.06 2.06-.94-2.06-.94-.94-2.06-.94 2.06-2.06.94z\"/><path d=\"M17.41 7.96l-1.37-1.37c-.4-.4-.92-.59-1.43-.59-.52 0-1.04.2-1.43.59L10.3 9.45l-7.72 7.72c-.78.78-.78 2.05 0 2.83L4 21.41c.39.39.9.59 1.41.59.51 0 1.02-.2 1.41-.59l7.78-7.78 2.81-2.81c.8-.78.8-2.07 0-2.86zM5.41 20L4 18.59l7.72-7.72 1.47 1.35L5.41 20z\"/>\n",
              "  </svg>\n",
              "      </button>\n",
              "      \n",
              "  <style>\n",
              "    .colab-df-container {\n",
              "      display:flex;\n",
              "      flex-wrap:wrap;\n",
              "      gap: 12px;\n",
              "    }\n",
              "\n",
              "    .colab-df-convert {\n",
              "      background-color: #E8F0FE;\n",
              "      border: none;\n",
              "      border-radius: 50%;\n",
              "      cursor: pointer;\n",
              "      display: none;\n",
              "      fill: #1967D2;\n",
              "      height: 32px;\n",
              "      padding: 0 0 0 0;\n",
              "      width: 32px;\n",
              "    }\n",
              "\n",
              "    .colab-df-convert:hover {\n",
              "      background-color: #E2EBFA;\n",
              "      box-shadow: 0px 1px 2px rgba(60, 64, 67, 0.3), 0px 1px 3px 1px rgba(60, 64, 67, 0.15);\n",
              "      fill: #174EA6;\n",
              "    }\n",
              "\n",
              "    [theme=dark] .colab-df-convert {\n",
              "      background-color: #3B4455;\n",
              "      fill: #D2E3FC;\n",
              "    }\n",
              "\n",
              "    [theme=dark] .colab-df-convert:hover {\n",
              "      background-color: #434B5C;\n",
              "      box-shadow: 0px 1px 3px 1px rgba(0, 0, 0, 0.15);\n",
              "      filter: drop-shadow(0px 1px 2px rgba(0, 0, 0, 0.3));\n",
              "      fill: #FFFFFF;\n",
              "    }\n",
              "  </style>\n",
              "\n",
              "      <script>\n",
              "        const buttonEl =\n",
              "          document.querySelector('#df-c37f8180-0af1-4e5b-a0e7-4c1c168be6e5 button.colab-df-convert');\n",
              "        buttonEl.style.display =\n",
              "          google.colab.kernel.accessAllowed ? 'block' : 'none';\n",
              "\n",
              "        async function convertToInteractive(key) {\n",
              "          const element = document.querySelector('#df-c37f8180-0af1-4e5b-a0e7-4c1c168be6e5');\n",
              "          const dataTable =\n",
              "            await google.colab.kernel.invokeFunction('convertToInteractive',\n",
              "                                                     [key], {});\n",
              "          if (!dataTable) return;\n",
              "\n",
              "          const docLinkHtml = 'Like what you see? Visit the ' +\n",
              "            '<a target=\"_blank\" href=https://colab.research.google.com/notebooks/data_table.ipynb>data table notebook</a>'\n",
              "            + ' to learn more about interactive tables.';\n",
              "          element.innerHTML = '';\n",
              "          dataTable['output_type'] = 'display_data';\n",
              "          await google.colab.output.renderOutput(dataTable, element);\n",
              "          const docLink = document.createElement('div');\n",
              "          docLink.innerHTML = docLinkHtml;\n",
              "          element.appendChild(docLink);\n",
              "        }\n",
              "      </script>\n",
              "    </div>\n",
              "  </div>\n",
              "  "
            ]
          },
          "metadata": {},
          "execution_count": 4
        }
      ]
    },
    {
      "cell_type": "markdown",
      "source": [
        "The below histogram of labels show that the data is **balanced**"
      ],
      "metadata": {
        "id": "Ty1XPo1Kzf60"
      }
    },
    {
      "cell_type": "code",
      "source": [
        "hist = df[\"label\"].hist(bins=5)\n",
        "print(hist)"
      ],
      "metadata": {
        "colab": {
          "base_uri": "https://localhost:8080/",
          "height": 282
        },
        "id": "v1T4ujj0xfPU",
        "outputId": "e66295b0-79f2-455f-a13f-ba65f3684b6d"
      },
      "execution_count": null,
      "outputs": [
        {
          "output_type": "stream",
          "name": "stdout",
          "text": [
            "AxesSubplot(0.125,0.125;0.775x0.755)\n"
          ]
        },
        {
          "output_type": "display_data",
          "data": {
            "text/plain": [
              "<Figure size 432x288 with 1 Axes>"
            ],
            "image/png": "[encoded data removed]"
          },
          "metadata": {
            "needs_background": "light"
          }
        }
      ]
    },
    {
      "cell_type": "markdown",
      "source": [
        "The above dataset is balanced."
      ],
      "metadata": {
        "id": "Gsc-PzBe6s8I"
      }
    },
    {
      "cell_type": "markdown",
      "source": [
        "Literature indicates that bag of bigrams provides the best accuracy on the data.\n",
        "Also, they have only used the comment feature.\n",
        "\n",
        "Since bag of bigrams considers pairs of contiguous words, it cannot be applied to author & subreddit columns (they are only 1 word entries).\n",
        "\n",
        "\n",
        "For author & subreddit, there is no semantic information to be extracted. Hence, if it is used as a feature to train but a test instance is from a different author & subreddit, the model may not scale well. For this reason, we drop the author and subreddit features.\n",
        "\n",
        "\n",
        "\n",
        "The created_utc field provides more granular data than date field. It is possible that what qualifies as sarcasm changes over time. Hence, we will use the year of a post as a possible feature (Data is from 2009 to 2016)."
      ],
      "metadata": {
        "id": "eJc3-ykq8bNU"
      }
    },
    {
      "cell_type": "code",
      "source": [
        "labels = df[\"label\"]\n",
        "df[\"year\"] = df[\"created_utc\"].apply(lambda t: datetime.datetime.strptime(t, \"%Y-%m-%d %H:%M:%S\").year)\n",
        "raw_features = df.drop([\"label\", \"author\", \"subreddit\", \"created_utc\", \"date\"], axis=1)"
      ],
      "metadata": {
        "id": "yzYrYljl4BCK"
      },
      "execution_count": null,
      "outputs": []
    },
    {
      "cell_type": "markdown",
      "source": [
        "Data Split - Train (60%), Validation (20%), Test (20%)\n",
        "\n",
        "\n",
        "---\n"
      ],
      "metadata": {
        "id": "hKk305WS0Ujs"
      }
    },
    {
      "cell_type": "code",
      "source": [
        "X_train, X_test, Y_train, Y_test = train_test_split(raw_features, labels, test_size=0.4, random_state=42)\n",
        "X_val, X_test, Y_val, Y_test = train_test_split(X_test, Y_test, test_size=0.5, random_state=42)\n",
        "# X_train = X_train.values\n",
        "# X_test = X_test.values\n",
        "# Y_train = Y_train.values\n",
        "# Y_test = Y_test.values"
      ],
      "metadata": {
        "id": "ChhouosI0T1v"
      },
      "execution_count": null,
      "outputs": []
    },
    {
      "cell_type": "markdown",
      "source": [
        "The following data exploration will be done on only the train data.\n"
      ],
      "metadata": {
        "id": "XrDBbqNK3Ofm"
      }
    },
    {
      "cell_type": "markdown",
      "source": [
        "Data Pre-processing for \"comment\" and \"parent_comment\":\n",
        "\n",
        "\n",
        "---\n",
        "\n",
        "\n",
        "  1. Convert all words to lower case. This will increase the frequency of the same word regardless of case\n",
        "  2. Remove stopwords - Stopwords can prevent the same pairs of words from appearing contiguously. Removing them will help to capture context in bag of bigrams and other feature extraction methods.\n",
        "\n",
        "Note: The SARC paper mentions that they have removed URLs and limited the data to ASCII characters only. Hence, our data cleaning can be restricted to methods that will aid in extracting semantic information."
      ],
      "metadata": {
        "id": "jWLOZRmHFYXX"
      }
    },
    {
      "cell_type": "code",
      "source": [
        "stop_words = nltk.corpus.stopwords.words('english')\n",
        "stopwords_dict = Counter(stop_words)"
      ],
      "metadata": {
        "id": "s8CtSzBfQqg_"
      },
      "execution_count": null,
      "outputs": []
    },
    {
      "cell_type": "code",
      "source": [
        "def clean(input, stopwords_dict):\n",
        "  #convert to lower case\n",
        "  lower = input.lower()\n",
        "\n",
        "  #remove stop words\n",
        "  #https://levelup.gitconnected.com/how-to-remove-stopwords-from-text-in-python-9e9fbfcbca8d\n",
        "  #https://stackoverflow.com/questions/19560498/faster-way-to-remove-stop-words-in-python\n",
        "\n",
        "  tokens = word_tokenize(lower)\n",
        "  cleaned = ' '.join([token for token in tokens if token not in stopwords_dict])\n",
        "  return cleaned"
      ],
      "metadata": {
        "id": "2P9L7QIPQrBE"
      },
      "execution_count": null,
      "outputs": []
    },
    {
      "cell_type": "code",
      "source": [
        "processed_comment = X_train[\"comment\"].apply(lambda c : clean(c, stopwords_dict))\n",
        "processed_parent_comment = X_train[\"parent_comment\"].apply(lambda c : clean(c, stopwords_dict))"
      ],
      "metadata": {
        "id": "C5TTchcXQw1R"
      },
      "execution_count": null,
      "outputs": []
    },
    {
      "cell_type": "markdown",
      "source": [
        "#Bag of Bigrams\n",
        "\n",
        "\n",
        "---\n",
        "\n"
      ],
      "metadata": {
        "id": "CW66RA3qGiE4"
      }
    },
    {
      "cell_type": "markdown",
      "source": [
        "Collated Function:"
      ],
      "metadata": {
        "id": "L8lg-Fu1xJ0Y"
      }
    },
    {
      "cell_type": "code",
      "source": [
        "#The following cells evaluate the different parts of this function\n",
        "from sklearn.preprocessing import normalize\n",
        "from sklearn.decomposition import TruncatedSVD\n",
        "\n",
        "def get_bob_norm_csr(raw_features):\n",
        "  processed_comment = raw_features[\"comment\"].apply(lambda c : clean(c, stopwords_dict))\n",
        "  processed_parent_comment =  raw_features[\"parent_comment\"].apply(lambda c : clean(c, stopwords_dict))\n",
        "\n",
        "  #For comment\n",
        "  vec = CountVectorizer(binary=True, ngram_range=(2,2), min_df=2)\n",
        "  bob_comment = vec.fit_transform(processed_comment.values)\n",
        "  #For parent_comment\n",
        "  vec = CountVectorizer(binary=True, ngram_range=(2,2), min_df=2)\n",
        "  bob_parent_comment = vec.fit_transform(processed_parent_comment.values)\n",
        "\n",
        "  reshaped_score = np.array(raw_features[\"score\"]).reshape(len(raw_features[\"score\"]), 1)\n",
        "  reshaped_ups = np.array(raw_features[\"ups\"]).reshape(len(raw_features[\"ups\"]), 1)\n",
        "  reshaped_downs = np.array(raw_features[\"downs\"]).reshape(len(raw_features[\"downs\"]), 1)\n",
        "  reshaped_year = np.array(raw_features[\"year\"]).reshape(len(raw_features[\"year\"]), 1)\n",
        "\n",
        "  combined_csr = hstack([bob_comment,bob_parent_comment, reshaped_score, reshaped_ups, reshaped_downs, reshaped_year]).tocsr()\n",
        "\n",
        "  norm_csr = normalize(combined_csr)\n",
        "  svd = TruncatedSVD(n_components=1, random_state=42)\n",
        "  svd = svd.fit(norm_csr)\n",
        "  svd_trans = svd.transform(norm_csr)\n",
        "\n",
        "  return svd_trans\n"
      ],
      "metadata": {
        "id": "8lnK_x3qVyRX"
      },
      "execution_count": null,
      "outputs": []
    },
    {
      "cell_type": "markdown",
      "source": [
        "Create Bag of Bigrams for comment & parent_comment"
      ],
      "metadata": {
        "id": "g3U3YiIExPTD"
      }
    },
    {
      "cell_type": "code",
      "source": [
        "#For comment\n",
        "vec = CountVectorizer(binary=True, ngram_range=(2,2), min_df=2)\n",
        "bob_comment = vec.fit_transform(processed_comment.values)"
      ],
      "metadata": {
        "id": "AVnL4et_1CCo"
      },
      "execution_count": null,
      "outputs": []
    },
    {
      "cell_type": "code",
      "source": [
        "#For parent_comment\n",
        "vec = CountVectorizer(binary=True, ngram_range=(2,2), min_df=2)\n",
        "bob_parent_comment = vec.fit_transform(processed_parent_comment.values)"
      ],
      "metadata": {
        "id": "ngwsVP5JdGKW"
      },
      "execution_count": null,
      "outputs": []
    },
    {
      "cell_type": "markdown",
      "source": [
        "Truncated Singular Value Decomposition (TSVD) on data with Bag of bigrams (to check if data is/can be made linearly separable)\n",
        "\n",
        "\n",
        "---\n",
        "Bag of Bigrams generates a large number of features for a single instance (In the baseline model, a single comment has ~1.9 million features). Reducing its dimensionality is useful to interpret the features and mitigate the **Curse of Dimensionality** (to reduce risk of overfitting)\n"
      ],
      "metadata": {
        "id": "ip7IXOBsFkiV"
      }
    },
    {
      "cell_type": "code",
      "source": [
        "reshaped_score = np.array(X_train[\"score\"]).reshape(len(X_train[\"score\"]), 1)\n",
        "reshaped_ups = np.array(X_train[\"ups\"]).reshape(len(X_train[\"ups\"]), 1)\n",
        "reshaped_downs = np.array(X_train[\"downs\"]).reshape(len(X_train[\"downs\"]), 1)\n",
        "reshaped_year = np.array(X_train[\"year\"]).reshape(len(X_train[\"year\"]), 1)\n",
        "\n",
        "train_csr = hstack([bob_comment,bob_parent_comment, reshaped_score, reshaped_ups, reshaped_downs, reshaped_year]).tocsr()"
      ],
      "metadata": {
        "id": "K4d5o6GHFkHO"
      },
      "execution_count": null,
      "outputs": []
    },
    {
      "cell_type": "markdown",
      "source": [
        "Normalizing train_csr"
      ],
      "metadata": {
        "id": "ff_9tTqvL59f"
      }
    },
    {
      "cell_type": "code",
      "source": [
        "from sklearn.preprocessing import normalize\n",
        "norm_train_csr = normalize(train_csr)"
      ],
      "metadata": {
        "id": "nkdDXNh6L5jS"
      },
      "execution_count": null,
      "outputs": []
    },
    {
      "cell_type": "code",
      "source": [
        "from sklearn.decomposition import TruncatedSVD\n",
        "svd = TruncatedSVD(n_components=2, random_state=0)\n",
        "svd = svd.fit(norm_train_csr)\n",
        "svd_train = svd.transform(norm_train_csr)"
      ],
      "metadata": {
        "id": "IUwBWZjqF2f9"
      },
      "execution_count": null,
      "outputs": []
    },
    {
      "cell_type": "code",
      "source": [
        "svd_df = pd.DataFrame(data = svd_train, columns = [\"PC 1\", \"PC 2\"])\n",
        "svd_df.head()"
      ],
      "metadata": {
        "colab": {
          "base_uri": "https://localhost:8080/",
          "height": 206
        },
        "id": "CohYlY84F3Lb",
        "outputId": "5b013ab4-7f0e-4176-9da3-0bbbbda602be"
      },
      "execution_count": null,
      "outputs": [
        {
          "output_type": "execute_result",
          "data": {
            "text/plain": [
              "       PC 1      PC 2\n",
              "0  0.999989 -0.004731\n",
              "1  0.999993 -0.003330\n",
              "2  0.999995 -0.001724\n",
              "3  0.999991 -0.003978\n",
              "4  0.999991 -0.003978"
            ],
            "text/html": [
              "\n",
              "  <div id=\"df-5a40bfd7-3ba4-48a6-8d90-a91953f05414\">\n",
              "    <div class=\"colab-df-container\">\n",
              "      <div>\n",
              "<style scoped>\n",
              "    .dataframe tbody tr th:only-of-type {\n",
              "        vertical-align: middle;\n",
              "    }\n",
              "\n",
              "    .dataframe tbody tr th {\n",
              "        vertical-align: top;\n",
              "    }\n",
              "\n",
              "    .dataframe thead th {\n",
              "        text-align: right;\n",
              "    }\n",
              "</style>\n",
              "<table border=\"1\" class=\"dataframe\">\n",
              "  <thead>\n",
              "    <tr style=\"text-align: right;\">\n",
              "      <th></th>\n",
              "      <th>PC 1</th>\n",
              "      <th>PC 2</th>\n",
              "    </tr>\n",
              "  </thead>\n",
              "  <tbody>\n",
              "    <tr>\n",
              "      <th>0</th>\n",
              "      <td>0.999989</td>\n",
              "      <td>-0.004731</td>\n",
              "    </tr>\n",
              "    <tr>\n",
              "      <th>1</th>\n",
              "      <td>0.999993</td>\n",
              "      <td>-0.003330</td>\n",
              "    </tr>\n",
              "    <tr>\n",
              "      <th>2</th>\n",
              "      <td>0.999995</td>\n",
              "      <td>-0.001724</td>\n",
              "    </tr>\n",
              "    <tr>\n",
              "      <th>3</th>\n",
              "      <td>0.999991</td>\n",
              "      <td>-0.003978</td>\n",
              "    </tr>\n",
              "    <tr>\n",
              "      <th>4</th>\n",
              "      <td>0.999991</td>\n",
              "      <td>-0.003978</td>\n",
              "    </tr>\n",
              "  </tbody>\n",
              "</table>\n",
              "</div>\n",
              "      <button class=\"colab-df-convert\" onclick=\"convertToInteractive('df-5a40bfd7-3ba4-48a6-8d90-a91953f05414')\"\n",
              "              title=\"Convert this dataframe to an interactive table.\"\n",
              "              style=\"display:none;\">\n",
              "        \n",
              "  <svg xmlns=\"http://www.w3.org/2000/svg\" height=\"24px\"viewBox=\"0 0 24 24\"\n",
              "       width=\"24px\">\n",
              "    <path d=\"M0 0h24v24H0V0z\" fill=\"none\"/>\n",
              "    <path d=\"M18.56 5.44l.94 2.06.94-2.06 2.06-.94-2.06-.94-.94-2.06-.94 2.06-2.06.94zm-11 1L8.5 8.5l.94-2.06 2.06-.94-2.06-.94L8.5 2.5l-.94 2.06-2.06.94zm10 10l.94 2.06.94-2.06 2.06-.94-2.06-.94-.94-2.06-.94 2.06-2.06.94z\"/><path d=\"M17.41 7.96l-1.37-1.37c-.4-.4-.92-.59-1.43-.59-.52 0-1.04.2-1.43.59L10.3 9.45l-7.72 7.72c-.78.78-.78 2.05 0 2.83L4 21.41c.39.39.9.59 1.41.59.51 0 1.02-.2 1.41-.59l7.78-7.78 2.81-2.81c.8-.78.8-2.07 0-2.86zM5.41 20L4 18.59l7.72-7.72 1.47 1.35L5.41 20z\"/>\n",
              "  </svg>\n",
              "      </button>\n",
              "      \n",
              "  <style>\n",
              "    .colab-df-container {\n",
              "      display:flex;\n",
              "      flex-wrap:wrap;\n",
              "      gap: 12px;\n",
              "    }\n",
              "\n",
              "    .colab-df-convert {\n",
              "      background-color: #E8F0FE;\n",
              "      border: none;\n",
              "      border-radius: 50%;\n",
              "      cursor: pointer;\n",
              "      display: none;\n",
              "      fill: #1967D2;\n",
              "      height: 32px;\n",
              "      padding: 0 0 0 0;\n",
              "      width: 32px;\n",
              "    }\n",
              "\n",
              "    .colab-df-convert:hover {\n",
              "      background-color: #E2EBFA;\n",
              "      box-shadow: 0px 1px 2px rgba(60, 64, 67, 0.3), 0px 1px 3px 1px rgba(60, 64, 67, 0.15);\n",
              "      fill: #174EA6;\n",
              "    }\n",
              "\n",
              "    [theme=dark] .colab-df-convert {\n",
              "      background-color: #3B4455;\n",
              "      fill: #D2E3FC;\n",
              "    }\n",
              "\n",
              "    [theme=dark] .colab-df-convert:hover {\n",
              "      background-color: #434B5C;\n",
              "      box-shadow: 0px 1px 3px 1px rgba(0, 0, 0, 0.15);\n",
              "      filter: drop-shadow(0px 1px 2px rgba(0, 0, 0, 0.3));\n",
              "      fill: #FFFFFF;\n",
              "    }\n",
              "  </style>\n",
              "\n",
              "      <script>\n",
              "        const buttonEl =\n",
              "          document.querySelector('#df-5a40bfd7-3ba4-48a6-8d90-a91953f05414 button.colab-df-convert');\n",
              "        buttonEl.style.display =\n",
              "          google.colab.kernel.accessAllowed ? 'block' : 'none';\n",
              "\n",
              "        async function convertToInteractive(key) {\n",
              "          const element = document.querySelector('#df-5a40bfd7-3ba4-48a6-8d90-a91953f05414');\n",
              "          const dataTable =\n",
              "            await google.colab.kernel.invokeFunction('convertToInteractive',\n",
              "                                                     [key], {});\n",
              "          if (!dataTable) return;\n",
              "\n",
              "          const docLinkHtml = 'Like what you see? Visit the ' +\n",
              "            '<a target=\"_blank\" href=https://colab.research.google.com/notebooks/data_table.ipynb>data table notebook</a>'\n",
              "            + ' to learn more about interactive tables.';\n",
              "          element.innerHTML = '';\n",
              "          dataTable['output_type'] = 'display_data';\n",
              "          await google.colab.output.renderOutput(dataTable, element);\n",
              "          const docLink = document.createElement('div');\n",
              "          docLink.innerHTML = docLinkHtml;\n",
              "          element.appendChild(docLink);\n",
              "        }\n",
              "      </script>\n",
              "    </div>\n",
              "  </div>\n",
              "  "
            ]
          },
          "metadata": {},
          "execution_count": 17
        }
      ]
    },
    {
      "cell_type": "code",
      "source": [
        "# https://stackoverflow.com/questions/44633571/how-can-i-get-the-feature-names-from-sklearn-truncatedsvd-object\n",
        "# len(svd.components_)\n",
        "\" \".join([\n",
        "    \"%+0.12f*%s\" % (coef, feat)\n",
        "    for coef, feat in zip(svd.components_[0], X_train.columns)\n",
        "])"
      ],
      "metadata": {
        "colab": {
          "base_uri": "https://localhost:8080/",
          "height": 35
        },
        "id": "JjeXjxmsIc8V",
        "outputId": "73552bcd-7c74-47db-97b1-da570cfe6fa5"
      },
      "execution_count": null,
      "outputs": [
        {
          "output_type": "execute_result",
          "data": {
            "text/plain": [
              "'+0.000000002455*comment +0.000000001637*score +0.000000002456*ups +0.000000001637*downs +0.000000001638*parent_comment +0.000000001638*year'"
            ],
            "application/vnd.google.colaboratory.intrinsic+json": {
              "type": "string"
            }
          },
          "metadata": {},
          "execution_count": 18
        }
      ]
    },
    {
      "cell_type": "markdown",
      "source": [
        "The reduced dimensionality shows PC1 is sufficient to capture most of the  data's variance.\n",
        "\n",
        "The weights for each feature resulting in PC1 are printed above. We see that the comment and ups are the features capturing the most variance in the data.\n",
        "\n",
        "Since the parent_comment weight is low, we can deduce that whether a comment is sarcastic or not is uncorrelated with its parent."
      ],
      "metadata": {
        "id": "FdJhcOEBcnKx"
      }
    },
    {
      "cell_type": "markdown",
      "source": [
        "Vizualizing this data:"
      ],
      "metadata": {
        "id": "kBiGkQjbws94"
      }
    },
    {
      "cell_type": "code",
      "source": [
        "# https://stackoverflow.com/questions/46917835/plot-data-on-number-line-and-colour\n",
        "#red is 0, black is 1\n",
        "import matplotlib.pyplot as plt\n",
        "\n",
        "plt.scatter(svd_df[\"PC 1\"], np.zeros_like(svd_df[\"PC 1\"]), c=Y_train, cmap=\"hot_r\", vmin=-2)\n",
        "# plt.scatter(svd_df[\"PC 1\"], svd_df[\"PC 2\"], c=Y_train, cmap=\"hot_r\", vmin=-2)\n",
        "\n",
        "plt.yticks([])\n",
        "plt.show()"
      ],
      "metadata": {
        "colab": {
          "base_uri": "https://localhost:8080/",
          "height": 265
        },
        "id": "AeE4EWcLu9Ux",
        "outputId": "7b3f0269-2866-4f2f-b6bd-a0964ea0017e"
      },
      "execution_count": null,
      "outputs": [
        {
          "output_type": "display_data",
          "data": {
            "text/plain": [
              "<Figure size 432x288 with 1 Axes>"
            ],
            "image/png": "[encoded data removed]"
          },
          "metadata": {
            "needs_background": "light"
          }
        }
      ]
    },
    {
      "cell_type": "markdown",
      "source": [
        "Based on the plot above, the reduced dimension of the training data is not linearly separable and logistic regression is unlikely to perform well on it."
      ],
      "metadata": {
        "id": "ZKzYyTnuvFqe"
      }
    },
    {
      "cell_type": "markdown",
      "source": [
        "#Logistic Regression on the processed data (Bag of Bigrams + Normalizing + SVD with 1 PC):\n",
        "\n",
        "---\n",
        "\n"
      ],
      "metadata": {
        "id": "oKe2dI8KTbAr"
      }
    },
    {
      "cell_type": "code",
      "source": [
        "logistic_train_data = get_bob_norm_csr(X_train)\n",
        "logistic_val_data = get_bob_norm_csr(X_val)"
      ],
      "metadata": {
        "id": "nVHhIGWbimq0"
      },
      "execution_count": null,
      "outputs": []
    },
    {
      "cell_type": "code",
      "source": [
        "from sklearn import metrics\n",
        "from sklearn.linear_model import LogisticRegression\n",
        "from sklearn.metrics import confusion_matrix, ConfusionMatrixDisplay\n",
        "import matplotlib.pyplot as plt\n",
        "from sklearn.metrics import f1_score\n",
        "\n",
        "sk_log_reg = LogisticRegression(verbose=1, solver='sag', penalty='l2', max_iter=40)\n",
        "model = sk_log_reg.fit(logistic_train_data, Y_train)\n",
        "\n",
        "predictions = model.predict(logistic_val_data)\n",
        "accuracy = model.score(logistic_val_data, Y_val)\n",
        "print(\"Accuracy: \", accuracy)\n",
        "f1 = f1_score(Y_val, predictions)\n",
        "print(\"F1 Score: \", f1)\n",
        "\n",
        "conf_mat = confusion_matrix(Y_val, predictions)\n",
        "disp = ConfusionMatrixDisplay(confusion_matrix=conf_mat, display_labels=model.classes_)\n",
        "disp.plot()\n",
        "plt.show()"
      ],
      "metadata": {
        "colab": {
          "base_uri": "https://localhost:8080/",
          "height": 368
        },
        "id": "n7EFnO59VKur",
        "outputId": "84c1a6a0-a92c-4ccc-cd8e-e409c2497204"
      },
      "execution_count": null,
      "outputs": [
        {
          "output_type": "stream",
          "name": "stderr",
          "text": [
            "[Parallel(n_jobs=1)]: Using backend SequentialBackend with 1 concurrent workers.\n"
          ]
        },
        {
          "output_type": "stream",
          "name": "stdout",
          "text": [
            "convergence after 27 epochs took 6 seconds\n",
            "Accuracy:  0.498844945709975\n",
            "F1 Score:  0.0\n"
          ]
        },
        {
          "output_type": "stream",
          "name": "stderr",
          "text": [
            "[Parallel(n_jobs=1)]: Done   1 out of   1 | elapsed:    5.7s finished\n"
          ]
        },
        {
          "output_type": "display_data",
          "data": {
            "text/plain": [
              "<Figure size 432x288 with 2 Axes>"
            ],
            "image/png": "[encoded data removed]"
          },
          "metadata": {
            "needs_background": "light"
          }
        }
      ]
    },
    {
      "cell_type": "markdown",
      "source": [
        "While PC1 captured a large proportion of the data's variance, the performance is poor on the validation data. This is expected as the SVD plot shows the data is not linearly separable.\n",
        "\n",
        "\n",
        "The baseline model using only the comment is more performant on SARC but it suffers from overfit due to Curse of Dimensionality (fails on new data)."
      ],
      "metadata": {
        "id": "mt5mbD3PqCLA"
      }
    },
    {
      "cell_type": "markdown",
      "source": [
        "#TFIDF (with Bag of Bigrams) - applied to \"comment\" and \"parent_comment\"\n",
        "\n",
        "\n",
        "\n",
        "---\n",
        "\n"
      ],
      "metadata": {
        "id": "vUJtBSyK-Jy7"
      }
    },
    {
      "cell_type": "markdown",
      "source": [
        "Collated function:"
      ],
      "metadata": {
        "id": "cxqfF5MtHIYt"
      }
    },
    {
      "cell_type": "code",
      "source": [
        "#The following cells evaluate the different parts of this function\n",
        "from sklearn.preprocessing import normalize\n",
        "from sklearn.decomposition import TruncatedSVD\n",
        "\n",
        "def get_tfidf_norm_csr(raw_features, max_features=160000):\n",
        "  processed_comment = raw_features[\"comment\"].apply(lambda c : clean(c, stopwords_dict))\n",
        "  processed_parent_comment =  raw_features[\"parent_comment\"].apply(lambda c : clean(c, stopwords_dict))\n",
        "\n",
        "  #For comment\n",
        "  # vec = TfidfVectorizer(ngram_range=(2, 2), max_features=max_features, min_df=2)\n",
        "  vec = TfidfVectorizer(ngram_range=(2, 2), min_df=2)\n",
        "  tfidf_comment = vec.fit_transform(processed_comment.values)\n",
        "  #For parent_comment\n",
        "  # vec = TfidfVectorizer(ngram_range=(2, 2), max_features=max_features, min_df=2)\n",
        "  vec = TfidfVectorizer(ngram_range=(2, 2), min_df=2)\n",
        "  tfidf_parent_comment = vec.fit_transform(processed_parent_comment.values)\n",
        "\n",
        "  reshaped_score = np.array(raw_features[\"score\"]).reshape(len(raw_features[\"score\"]), 1)\n",
        "  reshaped_ups = np.array(raw_features[\"ups\"]).reshape(len(raw_features[\"ups\"]), 1)\n",
        "  reshaped_downs = np.array(raw_features[\"downs\"]).reshape(len(raw_features[\"downs\"]), 1)\n",
        "  reshaped_year = np.array(raw_features[\"year\"]).reshape(len(raw_features[\"year\"]), 1)\n",
        "\n",
        "  combined_csr = hstack([tfidf_comment,tfidf_parent_comment, reshaped_score, reshaped_ups, reshaped_downs, reshaped_year]).tocsr()\n",
        "\n",
        "  norm_csr = normalize(combined_csr)\n",
        "  svd = TruncatedSVD(n_components=max_features, random_state=42)\n",
        "  svd = svd.fit(norm_csr)\n",
        "  svd_trans = svd.transform(norm_csr)\n",
        "\n",
        "  return svd_trans\n"
      ],
      "metadata": {
        "id": "Ln1ocGPBHHT6"
      },
      "execution_count": null,
      "outputs": []
    },
    {
      "cell_type": "code",
      "source": [
        "tfid_vec = TfidfVectorizer(ngram_range=(2, 2), max_features=50000, min_df=2)"
      ],
      "metadata": {
        "id": "tPT-1To0-GaZ"
      },
      "execution_count": null,
      "outputs": []
    },
    {
      "cell_type": "code",
      "source": [
        "tfidf_comment = vec.fit_transform(processed_comment.values)\n",
        "tfidf_parent_comment = vec.fit_transform(processed_parent_comment.values)"
      ],
      "metadata": {
        "id": "LjUACZvi_fNK"
      },
      "execution_count": null,
      "outputs": []
    },
    {
      "cell_type": "code",
      "source": [
        "tfidf_comment.shape"
      ],
      "metadata": {
        "colab": {
          "base_uri": "https://localhost:8080/"
        },
        "id": "Wc3PCS8pJ2my",
        "outputId": "cc54cccb-9fc0-40e4-925b-055b3ccab131"
      },
      "execution_count": null,
      "outputs": [
        {
          "output_type": "execute_result",
          "data": {
            "text/plain": [
              "(606463, 269201)"
            ]
          },
          "metadata": {},
          "execution_count": 25
        }
      ]
    },
    {
      "cell_type": "markdown",
      "source": [
        "Truncated Singular Value Decomposition (TSVD) on data with TF-IDF\n",
        "\n",
        "\n",
        "---\n",
        "\n"
      ],
      "metadata": {
        "id": "IIlzSCCAFT2S"
      }
    },
    {
      "cell_type": "code",
      "source": [
        "reshaped_score = np.array(X_train[\"score\"]).reshape(len(X_train[\"score\"]), 1)\n",
        "reshaped_ups = np.array(X_train[\"ups\"]).reshape(len(X_train[\"ups\"]), 1)\n",
        "reshaped_downs = np.array(X_train[\"downs\"]).reshape(len(X_train[\"downs\"]), 1)\n",
        "reshaped_year = np.array(X_train[\"year\"]).reshape(len(X_train[\"year\"]), 1)\n",
        "\n",
        "tfidf_train_csr = hstack([tfidf_comment,tfidf_parent_comment, reshaped_score, reshaped_ups, reshaped_downs, reshaped_year]).tocsr()"
      ],
      "metadata": {
        "id": "RAZtcvQSAi1v"
      },
      "execution_count": null,
      "outputs": []
    },
    {
      "cell_type": "markdown",
      "source": [
        "Normalizing train_csr"
      ],
      "metadata": {
        "id": "youdnfFsFkuk"
      }
    },
    {
      "cell_type": "code",
      "source": [
        "from sklearn.preprocessing import normalize\n",
        "norm_tfidf_train_csr = normalize(tfidf_train_csr)"
      ],
      "metadata": {
        "id": "Gs9vEkW8AlTy"
      },
      "execution_count": null,
      "outputs": []
    },
    {
      "cell_type": "code",
      "source": [
        "from sklearn.decomposition import TruncatedSVD\n",
        "svd = TruncatedSVD(n_components=2, random_state=0)\n",
        "svd = svd.fit(norm_tfidf_train_csr)\n",
        "svd_train = svd.transform(norm_tfidf_train_csr)"
      ],
      "metadata": {
        "id": "iDxDrKYQF118"
      },
      "execution_count": null,
      "outputs": []
    },
    {
      "cell_type": "code",
      "source": [
        "tfidf_svd_df = pd.DataFrame(data = svd_train, columns = [\"PC 1\", \"PC 2\"])\n",
        "tfidf_svd_df.head()"
      ],
      "metadata": {
        "colab": {
          "base_uri": "https://localhost:8080/",
          "height": 206
        },
        "id": "bTBY9n78GCwZ",
        "outputId": "d8c96bf0-869d-4756-f378-f6a2a2eaa496"
      },
      "execution_count": null,
      "outputs": [
        {
          "output_type": "execute_result",
          "data": {
            "text/plain": [
              "       PC 1      PC 2\n",
              "0  0.999989 -0.004731\n",
              "1  0.999993 -0.003330\n",
              "2  0.999995 -0.001724\n",
              "3  0.999991 -0.003978\n",
              "4  0.999991 -0.003978"
            ],
            "text/html": [
              "\n",
              "  <div id=\"df-d60829fe-0c94-4395-9fbd-db4ad6626a8e\">\n",
              "    <div class=\"colab-df-container\">\n",
              "      <div>\n",
              "<style scoped>\n",
              "    .dataframe tbody tr th:only-of-type {\n",
              "        vertical-align: middle;\n",
              "    }\n",
              "\n",
              "    .dataframe tbody tr th {\n",
              "        vertical-align: top;\n",
              "    }\n",
              "\n",
              "    .dataframe thead th {\n",
              "        text-align: right;\n",
              "    }\n",
              "</style>\n",
              "<table border=\"1\" class=\"dataframe\">\n",
              "  <thead>\n",
              "    <tr style=\"text-align: right;\">\n",
              "      <th></th>\n",
              "      <th>PC 1</th>\n",
              "      <th>PC 2</th>\n",
              "    </tr>\n",
              "  </thead>\n",
              "  <tbody>\n",
              "    <tr>\n",
              "      <th>0</th>\n",
              "      <td>0.999989</td>\n",
              "      <td>-0.004731</td>\n",
              "    </tr>\n",
              "    <tr>\n",
              "      <th>1</th>\n",
              "      <td>0.999993</td>\n",
              "      <td>-0.003330</td>\n",
              "    </tr>\n",
              "    <tr>\n",
              "      <th>2</th>\n",
              "      <td>0.999995</td>\n",
              "      <td>-0.001724</td>\n",
              "    </tr>\n",
              "    <tr>\n",
              "      <th>3</th>\n",
              "      <td>0.999991</td>\n",
              "      <td>-0.003978</td>\n",
              "    </tr>\n",
              "    <tr>\n",
              "      <th>4</th>\n",
              "      <td>0.999991</td>\n",
              "      <td>-0.003978</td>\n",
              "    </tr>\n",
              "  </tbody>\n",
              "</table>\n",
              "</div>\n",
              "      <button class=\"colab-df-convert\" onclick=\"convertToInteractive('df-d60829fe-0c94-4395-9fbd-db4ad6626a8e')\"\n",
              "              title=\"Convert this dataframe to an interactive table.\"\n",
              "              style=\"display:none;\">\n",
              "        \n",
              "  <svg xmlns=\"http://www.w3.org/2000/svg\" height=\"24px\"viewBox=\"0 0 24 24\"\n",
              "       width=\"24px\">\n",
              "    <path d=\"M0 0h24v24H0V0z\" fill=\"none\"/>\n",
              "    <path d=\"M18.56 5.44l.94 2.06.94-2.06 2.06-.94-2.06-.94-.94-2.06-.94 2.06-2.06.94zm-11 1L8.5 8.5l.94-2.06 2.06-.94-2.06-.94L8.5 2.5l-.94 2.06-2.06.94zm10 10l.94 2.06.94-2.06 2.06-.94-2.06-.94-.94-2.06-.94 2.06-2.06.94z\"/><path d=\"M17.41 7.96l-1.37-1.37c-.4-.4-.92-.59-1.43-.59-.52 0-1.04.2-1.43.59L10.3 9.45l-7.72 7.72c-.78.78-.78 2.05 0 2.83L4 21.41c.39.39.9.59 1.41.59.51 0 1.02-.2 1.41-.59l7.78-7.78 2.81-2.81c.8-.78.8-2.07 0-2.86zM5.41 20L4 18.59l7.72-7.72 1.47 1.35L5.41 20z\"/>\n",
              "  </svg>\n",
              "      </button>\n",
              "      \n",
              "  <style>\n",
              "    .colab-df-container {\n",
              "      display:flex;\n",
              "      flex-wrap:wrap;\n",
              "      gap: 12px;\n",
              "    }\n",
              "\n",
              "    .colab-df-convert {\n",
              "      background-color: #E8F0FE;\n",
              "      border: none;\n",
              "      border-radius: 50%;\n",
              "      cursor: pointer;\n",
              "      display: none;\n",
              "      fill: #1967D2;\n",
              "      height: 32px;\n",
              "      padding: 0 0 0 0;\n",
              "      width: 32px;\n",
              "    }\n",
              "\n",
              "    .colab-df-convert:hover {\n",
              "      background-color: #E2EBFA;\n",
              "      box-shadow: 0px 1px 2px rgba(60, 64, 67, 0.3), 0px 1px 3px 1px rgba(60, 64, 67, 0.15);\n",
              "      fill: #174EA6;\n",
              "    }\n",
              "\n",
              "    [theme=dark] .colab-df-convert {\n",
              "      background-color: #3B4455;\n",
              "      fill: #D2E3FC;\n",
              "    }\n",
              "\n",
              "    [theme=dark] .colab-df-convert:hover {\n",
              "      background-color: #434B5C;\n",
              "      box-shadow: 0px 1px 3px 1px rgba(0, 0, 0, 0.15);\n",
              "      filter: drop-shadow(0px 1px 2px rgba(0, 0, 0, 0.3));\n",
              "      fill: #FFFFFF;\n",
              "    }\n",
              "  </style>\n",
              "\n",
              "      <script>\n",
              "        const buttonEl =\n",
              "          document.querySelector('#df-d60829fe-0c94-4395-9fbd-db4ad6626a8e button.colab-df-convert');\n",
              "        buttonEl.style.display =\n",
              "          google.colab.kernel.accessAllowed ? 'block' : 'none';\n",
              "\n",
              "        async function convertToInteractive(key) {\n",
              "          const element = document.querySelector('#df-d60829fe-0c94-4395-9fbd-db4ad6626a8e');\n",
              "          const dataTable =\n",
              "            await google.colab.kernel.invokeFunction('convertToInteractive',\n",
              "                                                     [key], {});\n",
              "          if (!dataTable) return;\n",
              "\n",
              "          const docLinkHtml = 'Like what you see? Visit the ' +\n",
              "            '<a target=\"_blank\" href=https://colab.research.google.com/notebooks/data_table.ipynb>data table notebook</a>'\n",
              "            + ' to learn more about interactive tables.';\n",
              "          element.innerHTML = '';\n",
              "          dataTable['output_type'] = 'display_data';\n",
              "          await google.colab.output.renderOutput(dataTable, element);\n",
              "          const docLink = document.createElement('div');\n",
              "          docLink.innerHTML = docLinkHtml;\n",
              "          element.appendChild(docLink);\n",
              "        }\n",
              "      </script>\n",
              "    </div>\n",
              "  </div>\n",
              "  "
            ]
          },
          "metadata": {},
          "execution_count": 29
        }
      ]
    },
    {
      "cell_type": "code",
      "source": [
        "# https://stackoverflow.com/questions/44633571/how-can-i-get-the-feature-names-from-sklearn-truncatedsvd-object\n",
        "# len(svd.components_)\n",
        "\" \".join([\n",
        "    \"%+0.12f*%s\" % (coef, feat)\n",
        "    for coef, feat in zip(svd.components_[0], X_train.columns)\n",
        "])"
      ],
      "metadata": {
        "colab": {
          "base_uri": "https://localhost:8080/",
          "height": 35
        },
        "id": "DVcij8ATGI9B",
        "outputId": "d9700f97-b71b-4059-a2c5-42fb87dfa134"
      },
      "execution_count": null,
      "outputs": [
        {
          "output_type": "execute_result",
          "data": {
            "text/plain": [
              "'+0.000000002455*comment +0.000000001637*score +0.000000002456*ups +0.000000001637*downs +0.000000001638*parent_comment +0.000000001638*year'"
            ],
            "application/vnd.google.colaboratory.intrinsic+json": {
              "type": "string"
            }
          },
          "metadata": {},
          "execution_count": 30
        }
      ]
    },
    {
      "cell_type": "markdown",
      "source": [
        "The reduced dimensionality shows PC1 is sufficient to capture most of the  data's variance.\n",
        "\n",
        "The weights for each feature resulting in PC1 are printed above. We see that the **comment and year are the features capturing the most variance in the data.**\n"
      ],
      "metadata": {
        "id": "l67c4xelGUiN"
      }
    },
    {
      "cell_type": "markdown",
      "source": [
        "Visualizing this:"
      ],
      "metadata": {
        "id": "GpHCvtSuGjhi"
      }
    },
    {
      "cell_type": "code",
      "source": [
        "# https://stackoverflow.com/questions/46917835/plot-data-on-number-line-and-colour\n",
        "#red is 0, black is 1\n",
        "import matplotlib.pyplot as plt\n",
        "\n",
        "plt.scatter(tfidf_svd_df[\"PC 1\"], np.zeros_like(tfidf_svd_df[\"PC 1\"]), c=Y_train, cmap=\"hot_r\", vmin=-2)\n",
        "# plt.scatter(svd_df[\"PC 1\"], svd_df[\"PC 2\"], c=Y_train, cmap=\"hot_r\", vmin=-2)\n",
        "\n",
        "plt.yticks([])\n",
        "plt.show()"
      ],
      "metadata": {
        "colab": {
          "base_uri": "https://localhost:8080/",
          "height": 265
        },
        "id": "udv4ue5lGndA",
        "outputId": "61381e42-d60d-42c8-9334-e3757bce068a"
      },
      "execution_count": null,
      "outputs": [
        {
          "output_type": "display_data",
          "data": {
            "text/plain": [
              "<Figure size 432x288 with 1 Axes>"
            ],
            "image/png": "[encoded data removed]"
          },
          "metadata": {
            "needs_background": "light"
          }
        }
      ]
    },
    {
      "cell_type": "markdown",
      "source": [
        "Like the Bag of Bigrams plot, the reduced dimension of the TF-IDF training data is not linearly separable and logistic regression is unlikely to perform well on it."
      ],
      "metadata": {
        "id": "F5Rvtoo3GxoK"
      }
    },
    {
      "cell_type": "markdown",
      "source": [
        "#Logistic Regression on the processed data (TF-IDF + Normalizing + SVD with 1 PC):\n",
        "\n",
        "---\n",
        "\n"
      ],
      "metadata": {
        "id": "tQL87zftG85k"
      }
    },
    {
      "cell_type": "code",
      "source": [
        "logistic_train_data = get_tfidf_norm_csr(X_train)\n",
        "logistic_val_data = get_tfidf_norm_csr(X_val)"
      ],
      "metadata": {
        "id": "jvQMSdwCHgLP"
      },
      "execution_count": null,
      "outputs": []
    },
    {
      "cell_type": "code",
      "source": [
        "from sklearn import metrics\n",
        "from sklearn.linear_model import LogisticRegression\n",
        "from sklearn.metrics import confusion_matrix, ConfusionMatrixDisplay\n",
        "import matplotlib.pyplot as plt\n",
        "from sklearn.metrics import f1_score\n",
        "\n",
        "sk_log_reg = LogisticRegression(verbose=1, solver='sag', penalty='l2', max_iter=40)\n",
        "model = sk_log_reg.fit(logistic_train_data, Y_train)\n",
        "\n",
        "predictions = model.predict(logistic_val_data)\n",
        "accuracy = model.score(logistic_val_data, Y_val)\n",
        "print(\"Accuracy: \", accuracy)\n",
        "f1 = f1_score(Y_val, predictions)\n",
        "print(\"F1 Score: \", f1)\n",
        "\n",
        "conf_mat = confusion_matrix(Y_val, predictions)\n",
        "disp = ConfusionMatrixDisplay(confusion_matrix=conf_mat, display_labels=model.classes_)\n",
        "disp.plot()\n",
        "plt.show()"
      ],
      "metadata": {
        "id": "rVyDRRoGHi3S"
      },
      "execution_count": null,
      "outputs": []
    },
    {
      "cell_type": "markdown",
      "source": [
        "PC1 captures most of the variance in the data but poor validation performance - expected since data not linearly separable."
      ],
      "metadata": {
        "id": "4fG3ad-RHndf"
      }
    }
  ]
}